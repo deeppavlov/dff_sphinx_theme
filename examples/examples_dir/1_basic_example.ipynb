{
 "cells": [
  {
   "cell_type": "markdown",
   "id": "d59496bf",
   "metadata": {
    "cell_marker": "\"\"\"",
    "lines_to_next_cell": 2
   },
   "source": [
    "# Basic Example\n",
    "The following example shows basic usage examples"
   ]
  },
  {
   "cell_type": "code",
   "execution_count": 1,
   "id": "c25b1e9d",
   "metadata": {
    "execution": {
     "iopub.execute_input": "2022-12-29T09:21:20.819303Z",
     "iopub.status.busy": "2022-12-29T09:21:20.818757Z",
     "iopub.status.idle": "2022-12-29T09:21:20.825815Z",
     "shell.execute_reply": "2022-12-29T09:21:20.825225Z"
    },
    "lines_to_next_cell": 2
   },
   "outputs": [],
   "source": [
    "import os"
   ]
  },
  {
   "cell_type": "markdown",
   "id": "b7b6f18c",
   "metadata": {
    "cell_marker": "\"\"\""
   },
   "source": [
    "The example prints current directory (`getchwd`)."
   ]
  },
  {
   "cell_type": "code",
   "execution_count": 2,
   "id": "6e47a28b",
   "metadata": {
    "execution": {
     "iopub.execute_input": "2022-12-29T09:21:20.828625Z",
     "iopub.status.busy": "2022-12-29T09:21:20.828417Z",
     "iopub.status.idle": "2022-12-29T09:21:20.831504Z",
     "shell.execute_reply": "2022-12-29T09:21:20.830827Z"
    }
   },
   "outputs": [],
   "source": [
    "def some_function():\n",
    "    print(os.getcwd())"
   ]
  },
  {
   "cell_type": "code",
   "execution_count": 3,
   "id": "7072a527",
   "metadata": {
    "execution": {
     "iopub.execute_input": "2022-12-29T09:21:20.834252Z",
     "iopub.status.busy": "2022-12-29T09:21:20.834036Z",
     "iopub.status.idle": "2022-12-29T09:21:20.837598Z",
     "shell.execute_reply": "2022-12-29T09:21:20.836938Z"
    }
   },
   "outputs": [
    {
     "name": "stdout",
     "output_type": "stream",
     "text": [
      "Current working directory:\n",
      "/home/runner/work/dff_sphinx_theme/dff_sphinx_theme/demo/docs/examples/examples_dir\n"
     ]
    }
   ],
   "source": [
    "if __name__ == \"__main__\":\n",
    "    print(\"Current working directory:\")\n",
    "    some_function()"
   ]
  }
 ],
 "metadata": {
  "jupytext": {
   "cell_metadata_filter": "-all",
   "main_language": "python",
   "notebook_metadata_filter": "-all",
   "text_representation": {
    "extension": ".py",
    "format_name": "percent"
   }
  },
  "language_info": {
   "codemirror_mode": {
    "name": "ipython",
    "version": 3
   },
   "file_extension": ".py",
   "mimetype": "text/x-python",
   "name": "python",
   "nbconvert_exporter": "python",
   "pygments_lexer": "ipython3",
   "version": "3.7.15"
  }
 },
 "nbformat": 4,
 "nbformat_minor": 5
}
